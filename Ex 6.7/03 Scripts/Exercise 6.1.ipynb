{
 "cells": [
  {
   "cell_type": "code",
   "execution_count": 2,
   "id": "09d99619-6d43-4d29-91d6-8af31bcdb094",
   "metadata": {},
   "outputs": [],
   "source": [
    "# import libraries\n",
    "import pandas as pd\n",
    "import numpy as np\n",
    "import os"
   ]
  },
  {
   "cell_type": "code",
   "execution_count": 3,
   "id": "150c6d9b-c2cc-4bec-9658-0edf15f9ab28",
   "metadata": {},
   "outputs": [],
   "source": [
    "path = r'C:\\Users\\harip\\Desktop\\Data Analytics Project\\Advanced Analytics & Dashboard Design\\Exercise 6.1'"
   ]
  },
  {
   "cell_type": "code",
   "execution_count": 4,
   "id": "55425b28-850e-43c8-82ef-621e6f66f9e8",
   "metadata": {},
   "outputs": [],
   "source": [
    "# import excel file\n",
    "data = pd.read_csv(os.path.join(path,'02 Data','Original Data','flavors_of_cacao.csv'), index_col = False)"
   ]
  },
  {
   "cell_type": "code",
   "execution_count": 5,
   "id": "2ba5b371-fd5f-4b38-8df2-ef33ce92be2b",
   "metadata": {},
   "outputs": [
    {
     "data": {
      "text/html": [
       "<div>\n",
       "<style scoped>\n",
       "    .dataframe tbody tr th:only-of-type {\n",
       "        vertical-align: middle;\n",
       "    }\n",
       "\n",
       "    .dataframe tbody tr th {\n",
       "        vertical-align: top;\n",
       "    }\n",
       "\n",
       "    .dataframe thead th {\n",
       "        text-align: right;\n",
       "    }\n",
       "</style>\n",
       "<table border=\"1\" class=\"dataframe\">\n",
       "  <thead>\n",
       "    <tr style=\"text-align: right;\">\n",
       "      <th></th>\n",
       "      <th>Company \\n(Maker-if known)</th>\n",
       "      <th>Specific Bean Origin\\nor Bar Name</th>\n",
       "      <th>REF</th>\n",
       "      <th>Review\\nDate</th>\n",
       "      <th>Cocoa\\nPercent</th>\n",
       "      <th>Company\\nLocation</th>\n",
       "      <th>Rating</th>\n",
       "      <th>Bean\\nType</th>\n",
       "      <th>Broad Bean\\nOrigin</th>\n",
       "    </tr>\n",
       "  </thead>\n",
       "  <tbody>\n",
       "    <tr>\n",
       "      <th>0</th>\n",
       "      <td>A. Morin</td>\n",
       "      <td>Agua Grande</td>\n",
       "      <td>1876</td>\n",
       "      <td>2016</td>\n",
       "      <td>63%</td>\n",
       "      <td>France</td>\n",
       "      <td>3.75</td>\n",
       "      <td></td>\n",
       "      <td>Sao Tome</td>\n",
       "    </tr>\n",
       "    <tr>\n",
       "      <th>1</th>\n",
       "      <td>A. Morin</td>\n",
       "      <td>Kpime</td>\n",
       "      <td>1676</td>\n",
       "      <td>2015</td>\n",
       "      <td>70%</td>\n",
       "      <td>France</td>\n",
       "      <td>2.75</td>\n",
       "      <td></td>\n",
       "      <td>Togo</td>\n",
       "    </tr>\n",
       "    <tr>\n",
       "      <th>2</th>\n",
       "      <td>A. Morin</td>\n",
       "      <td>Atsane</td>\n",
       "      <td>1676</td>\n",
       "      <td>2015</td>\n",
       "      <td>70%</td>\n",
       "      <td>France</td>\n",
       "      <td>3.00</td>\n",
       "      <td></td>\n",
       "      <td>Togo</td>\n",
       "    </tr>\n",
       "    <tr>\n",
       "      <th>3</th>\n",
       "      <td>A. Morin</td>\n",
       "      <td>Akata</td>\n",
       "      <td>1680</td>\n",
       "      <td>2015</td>\n",
       "      <td>70%</td>\n",
       "      <td>France</td>\n",
       "      <td>3.50</td>\n",
       "      <td></td>\n",
       "      <td>Togo</td>\n",
       "    </tr>\n",
       "    <tr>\n",
       "      <th>4</th>\n",
       "      <td>A. Morin</td>\n",
       "      <td>Quilla</td>\n",
       "      <td>1704</td>\n",
       "      <td>2015</td>\n",
       "      <td>70%</td>\n",
       "      <td>France</td>\n",
       "      <td>3.50</td>\n",
       "      <td></td>\n",
       "      <td>Peru</td>\n",
       "    </tr>\n",
       "  </tbody>\n",
       "</table>\n",
       "</div>"
      ],
      "text/plain": [
       "  Company \\n(Maker-if known) Specific Bean Origin\\nor Bar Name   REF  \\\n",
       "0                   A. Morin                       Agua Grande  1876   \n",
       "1                   A. Morin                             Kpime  1676   \n",
       "2                   A. Morin                            Atsane  1676   \n",
       "3                   A. Morin                             Akata  1680   \n",
       "4                   A. Morin                            Quilla  1704   \n",
       "\n",
       "   Review\\nDate Cocoa\\nPercent Company\\nLocation  Rating Bean\\nType  \\\n",
       "0          2016            63%            France    3.75              \n",
       "1          2015            70%            France    2.75              \n",
       "2          2015            70%            France    3.00              \n",
       "3          2015            70%            France    3.50              \n",
       "4          2015            70%            France    3.50              \n",
       "\n",
       "  Broad Bean\\nOrigin  \n",
       "0           Sao Tome  \n",
       "1               Togo  \n",
       "2               Togo  \n",
       "3               Togo  \n",
       "4               Peru  "
      ]
     },
     "execution_count": 5,
     "metadata": {},
     "output_type": "execute_result"
    }
   ],
   "source": [
    "# quick check\n",
    "data.head()"
   ]
  },
  {
   "cell_type": "markdown",
   "id": "796be112-5367-4558-bb5d-1c99d0c379bd",
   "metadata": {},
   "source": [
    "# Renaming Columns"
   ]
  },
  {
   "cell_type": "code",
   "execution_count": 6,
   "id": "03c4b51b-b212-40a0-9047-b6aed03ac2c1",
   "metadata": {},
   "outputs": [
    {
     "name": "stdout",
     "output_type": "stream",
     "text": [
      "Index(['Company', 'Specific Bean Origin', 'REF', 'Review', 'Cacao percent',\n",
      "       'Location', 'Rating', 'Bean type', 'Broad Bean Origin'],\n",
      "      dtype='object')\n"
     ]
    }
   ],
   "source": [
    "# Renaming columns\n",
    "# First, strip whitespace and remove newlines\n",
    "data.columns = data.columns.str.replace(r'\\s+', ' ', regex=True).str.strip()\n",
    "\n",
    "# Now rename specific columns\n",
    "rename_dict = {\n",
    "    'Company (Maker-if known)': 'Company',\n",
    "    'Specific Bean Origin or Bar Name': 'Specific Bean Origin',\n",
    "    'Review Date': 'Review',\n",
    "    'Cocoa Percent': 'Cacao percent',\n",
    "    'Company Location': 'Location',\n",
    "    'Bean Type': 'Bean type',\n",
    "    'Broad Bean Origin': 'Broad Bean Origin'\n",
    "}\n",
    "\n",
    "data.rename(columns=rename_dict, inplace=True)\n",
    "\n",
    "print(data.columns)"
   ]
  },
  {
   "cell_type": "code",
   "execution_count": 7,
   "id": "3bab6179-73b7-476d-96d4-e95a9e2b3889",
   "metadata": {},
   "outputs": [
    {
     "data": {
      "text/html": [
       "<div>\n",
       "<style scoped>\n",
       "    .dataframe tbody tr th:only-of-type {\n",
       "        vertical-align: middle;\n",
       "    }\n",
       "\n",
       "    .dataframe tbody tr th {\n",
       "        vertical-align: top;\n",
       "    }\n",
       "\n",
       "    .dataframe thead th {\n",
       "        text-align: right;\n",
       "    }\n",
       "</style>\n",
       "<table border=\"1\" class=\"dataframe\">\n",
       "  <thead>\n",
       "    <tr style=\"text-align: right;\">\n",
       "      <th></th>\n",
       "      <th>Company</th>\n",
       "      <th>Specific Bean Origin</th>\n",
       "      <th>REF</th>\n",
       "      <th>Review</th>\n",
       "      <th>Cacao percent</th>\n",
       "      <th>Location</th>\n",
       "      <th>Rating</th>\n",
       "      <th>Bean type</th>\n",
       "      <th>Broad Bean Origin</th>\n",
       "    </tr>\n",
       "  </thead>\n",
       "  <tbody>\n",
       "    <tr>\n",
       "      <th>0</th>\n",
       "      <td>A. Morin</td>\n",
       "      <td>Agua Grande</td>\n",
       "      <td>1876</td>\n",
       "      <td>2016</td>\n",
       "      <td>63%</td>\n",
       "      <td>France</td>\n",
       "      <td>3.75</td>\n",
       "      <td></td>\n",
       "      <td>Sao Tome</td>\n",
       "    </tr>\n",
       "    <tr>\n",
       "      <th>1</th>\n",
       "      <td>A. Morin</td>\n",
       "      <td>Kpime</td>\n",
       "      <td>1676</td>\n",
       "      <td>2015</td>\n",
       "      <td>70%</td>\n",
       "      <td>France</td>\n",
       "      <td>2.75</td>\n",
       "      <td></td>\n",
       "      <td>Togo</td>\n",
       "    </tr>\n",
       "    <tr>\n",
       "      <th>2</th>\n",
       "      <td>A. Morin</td>\n",
       "      <td>Atsane</td>\n",
       "      <td>1676</td>\n",
       "      <td>2015</td>\n",
       "      <td>70%</td>\n",
       "      <td>France</td>\n",
       "      <td>3.00</td>\n",
       "      <td></td>\n",
       "      <td>Togo</td>\n",
       "    </tr>\n",
       "    <tr>\n",
       "      <th>3</th>\n",
       "      <td>A. Morin</td>\n",
       "      <td>Akata</td>\n",
       "      <td>1680</td>\n",
       "      <td>2015</td>\n",
       "      <td>70%</td>\n",
       "      <td>France</td>\n",
       "      <td>3.50</td>\n",
       "      <td></td>\n",
       "      <td>Togo</td>\n",
       "    </tr>\n",
       "    <tr>\n",
       "      <th>4</th>\n",
       "      <td>A. Morin</td>\n",
       "      <td>Quilla</td>\n",
       "      <td>1704</td>\n",
       "      <td>2015</td>\n",
       "      <td>70%</td>\n",
       "      <td>France</td>\n",
       "      <td>3.50</td>\n",
       "      <td></td>\n",
       "      <td>Peru</td>\n",
       "    </tr>\n",
       "  </tbody>\n",
       "</table>\n",
       "</div>"
      ],
      "text/plain": [
       "    Company Specific Bean Origin   REF  Review Cacao percent Location  Rating  \\\n",
       "0  A. Morin          Agua Grande  1876    2016           63%   France    3.75   \n",
       "1  A. Morin                Kpime  1676    2015           70%   France    2.75   \n",
       "2  A. Morin               Atsane  1676    2015           70%   France    3.00   \n",
       "3  A. Morin                Akata  1680    2015           70%   France    3.50   \n",
       "4  A. Morin               Quilla  1704    2015           70%   France    3.50   \n",
       "\n",
       "  Bean type Broad Bean Origin  \n",
       "0                    Sao Tome  \n",
       "1                        Togo  \n",
       "2                        Togo  \n",
       "3                        Togo  \n",
       "4                        Peru  "
      ]
     },
     "execution_count": 7,
     "metadata": {},
     "output_type": "execute_result"
    }
   ],
   "source": [
    "data.head()"
   ]
  },
  {
   "cell_type": "markdown",
   "id": "fb8f53e7-69dd-467a-af36-c40931bbb580",
   "metadata": {},
   "source": [
    "# Checking Mixed-typed Data"
   ]
  },
  {
   "cell_type": "code",
   "execution_count": 8,
   "id": "92e5bdaf-6294-4321-8adc-9569006a6f81",
   "metadata": {},
   "outputs": [
    {
     "name": "stdout",
     "output_type": "stream",
     "text": [
      "Bean type\n",
      "Broad Bean Origin\n"
     ]
    },
    {
     "name": "stderr",
     "output_type": "stream",
     "text": [
      "C:\\Users\\harip\\AppData\\Local\\Temp\\ipykernel_31264\\3833885844.py:3: FutureWarning: DataFrame.applymap has been deprecated. Use DataFrame.map instead.\n",
      "  weird = (data[[col]].applymap(type) != data[[col]].iloc[0].apply(type)).any(axis = 1)\n",
      "C:\\Users\\harip\\AppData\\Local\\Temp\\ipykernel_31264\\3833885844.py:3: FutureWarning: DataFrame.applymap has been deprecated. Use DataFrame.map instead.\n",
      "  weird = (data[[col]].applymap(type) != data[[col]].iloc[0].apply(type)).any(axis = 1)\n",
      "C:\\Users\\harip\\AppData\\Local\\Temp\\ipykernel_31264\\3833885844.py:3: FutureWarning: DataFrame.applymap has been deprecated. Use DataFrame.map instead.\n",
      "  weird = (data[[col]].applymap(type) != data[[col]].iloc[0].apply(type)).any(axis = 1)\n",
      "C:\\Users\\harip\\AppData\\Local\\Temp\\ipykernel_31264\\3833885844.py:3: FutureWarning: DataFrame.applymap has been deprecated. Use DataFrame.map instead.\n",
      "  weird = (data[[col]].applymap(type) != data[[col]].iloc[0].apply(type)).any(axis = 1)\n",
      "C:\\Users\\harip\\AppData\\Local\\Temp\\ipykernel_31264\\3833885844.py:3: FutureWarning: DataFrame.applymap has been deprecated. Use DataFrame.map instead.\n",
      "  weird = (data[[col]].applymap(type) != data[[col]].iloc[0].apply(type)).any(axis = 1)\n",
      "C:\\Users\\harip\\AppData\\Local\\Temp\\ipykernel_31264\\3833885844.py:3: FutureWarning: DataFrame.applymap has been deprecated. Use DataFrame.map instead.\n",
      "  weird = (data[[col]].applymap(type) != data[[col]].iloc[0].apply(type)).any(axis = 1)\n",
      "C:\\Users\\harip\\AppData\\Local\\Temp\\ipykernel_31264\\3833885844.py:3: FutureWarning: DataFrame.applymap has been deprecated. Use DataFrame.map instead.\n",
      "  weird = (data[[col]].applymap(type) != data[[col]].iloc[0].apply(type)).any(axis = 1)\n",
      "C:\\Users\\harip\\AppData\\Local\\Temp\\ipykernel_31264\\3833885844.py:3: FutureWarning: DataFrame.applymap has been deprecated. Use DataFrame.map instead.\n",
      "  weird = (data[[col]].applymap(type) != data[[col]].iloc[0].apply(type)).any(axis = 1)\n",
      "C:\\Users\\harip\\AppData\\Local\\Temp\\ipykernel_31264\\3833885844.py:3: FutureWarning: DataFrame.applymap has been deprecated. Use DataFrame.map instead.\n",
      "  weird = (data[[col]].applymap(type) != data[[col]].iloc[0].apply(type)).any(axis = 1)\n"
     ]
    }
   ],
   "source": [
    "# Check Mixed type Data\n",
    "for col in data.columns.tolist():\n",
    "  weird = (data[[col]].applymap(type) != data[[col]].iloc[0].apply(type)).any(axis = 1)\n",
    "  if len (data[weird]) > 0:\n",
    "    print (col)"
   ]
  },
  {
   "cell_type": "code",
   "execution_count": 9,
   "id": "28fa4efe-ae9e-4614-876c-dee2c0341df2",
   "metadata": {},
   "outputs": [
    {
     "name": "stdout",
     "output_type": "stream",
     "text": [
      "Company                  object\n",
      "Specific Bean Origin     object\n",
      "REF                       int64\n",
      "Review                    int64\n",
      "Cacao percent            object\n",
      "Location                 object\n",
      "Rating                  float64\n",
      "Bean type                object\n",
      "Broad Bean Origin        object\n",
      "dtype: object\n"
     ]
    }
   ],
   "source": [
    "# check data types\n",
    "print(data.dtypes)"
   ]
  },
  {
   "cell_type": "code",
   "execution_count": 10,
   "id": "8e0a8ff6-bab0-428b-b6cb-40831e65358d",
   "metadata": {},
   "outputs": [],
   "source": [
    "# Clean Bean type and Broad Bean Origin → string dtype, keep NaN\n",
    "data['Bean type'] = data['Bean type'].astype('string')\n",
    "data['Broad Bean Origin'] = data['Broad Bean Origin'].astype('string')\n",
    "\n",
    "# Clean Cacao percent → numeric for analysis\n",
    "data['Cacao percent'] = (\n",
    "    data['Cacao percent']\n",
    "    .str.replace('%', '', regex=False)\n",
    "    .str.strip()\n",
    "    .astype(float)\n",
    "    .round()\n",
    "    .astype('Int64')  # nullable integer type\n",
    ")"
   ]
  },
  {
   "cell_type": "code",
   "execution_count": 11,
   "id": "f15ffb11-6ce3-45c0-9fe9-c01f64fbe6e0",
   "metadata": {},
   "outputs": [
    {
     "name": "stdout",
     "output_type": "stream",
     "text": [
      "Company                         object\n",
      "Specific Bean Origin            object\n",
      "REF                              int64\n",
      "Review                           int64\n",
      "Cacao percent                    Int64\n",
      "Location                        object\n",
      "Rating                         float64\n",
      "Bean type               string[python]\n",
      "Broad Bean Origin       string[python]\n",
      "dtype: object\n"
     ]
    }
   ],
   "source": [
    "# check data types\n",
    "print(data.dtypes)"
   ]
  },
  {
   "cell_type": "markdown",
   "id": "059f7de0-dc06-4e3b-9b14-d3c171cc9346",
   "metadata": {},
   "source": [
    "# Find Missing values"
   ]
  },
  {
   "cell_type": "code",
   "execution_count": 12,
   "id": "4ac14a17-c50f-4ca1-94eb-084135af97d0",
   "metadata": {},
   "outputs": [
    {
     "data": {
      "text/plain": [
       "Company                 0\n",
       "Specific Bean Origin    0\n",
       "REF                     0\n",
       "Review                  0\n",
       "Cacao percent           0\n",
       "Location                0\n",
       "Rating                  0\n",
       "Bean type               1\n",
       "Broad Bean Origin       1\n",
       "dtype: int64"
      ]
     },
     "execution_count": 12,
     "metadata": {},
     "output_type": "execute_result"
    }
   ],
   "source": [
    "# Find Missing Data\n",
    "data.isnull().sum()"
   ]
  },
  {
   "cell_type": "code",
   "execution_count": 13,
   "id": "6a82b489-0e5a-47c0-bf70-619fbb1efa72",
   "metadata": {},
   "outputs": [
    {
     "name": "stdout",
     "output_type": "stream",
     "text": [
      "Company                   0\n",
      "Specific Bean Origin      0\n",
      "Location                  0\n",
      "Bean type               887\n",
      "Broad Bean Origin        73\n",
      "dtype: int64\n"
     ]
    }
   ],
   "source": [
    "# Count blank/space-only cells per column\n",
    "# Include both object and string types\n",
    "blank_counts = data.select_dtypes(include=['object', 'string']).apply(lambda x: x.str.strip().eq('').sum())\n",
    "print(blank_counts)"
   ]
  },
  {
   "cell_type": "code",
   "execution_count": 14,
   "id": "ad68ae53-bdb2-48f6-be6f-64eee58b48b6",
   "metadata": {},
   "outputs": [],
   "source": [
    "# Replace blanks or spaces in 'Bean type' and 'Broad Bean Origin' with 'Unknown'\n",
    "data['Bean type'] = data['Bean type'].replace(r'^\\s*$', 'Unknown', regex=True)\n",
    "data['Broad Bean Origin'] = data['Broad Bean Origin'].replace(r'^\\s*$', 'Unknown', regex=True)"
   ]
  },
  {
   "cell_type": "code",
   "execution_count": 15,
   "id": "295f3694-40a7-4c11-8934-f2c93bd0d3e4",
   "metadata": {},
   "outputs": [
    {
     "name": "stdout",
     "output_type": "stream",
     "text": [
      "Bean type\n",
      "Unknown                     887\n",
      "Trinitario                  419\n",
      "Criollo                     153\n",
      "Forastero                    87\n",
      "Forastero (Nacional)         52\n",
      "Blend                        41\n",
      "Criollo, Trinitario          39\n",
      "Forastero (Arriba)           37\n",
      "Criollo (Porcelana)          10\n",
      "Trinitario, Criollo           9\n",
      "Forastero (Parazinho)         8\n",
      "Forastero (Arriba) ASS        6\n",
      "Beniano                       3\n",
      "Matina                        3\n",
      "Nacional (Arriba)             3\n",
      "EET                           3\n",
      "Criollo (Ocumare 61)          2\n",
      "Amazon mix                    2\n",
      "Trinitario, Forastero         2\n",
      "Amazon, ICS                   2\n",
      "Criollo (Amarru)              2\n",
      "Criollo, Forastero            2\n",
      "Nacional                      2\n",
      "Forastero (Catongo)           2\n",
      "Trinitario (85% Criollo)      2\n",
      "Criollo, +                    1\n",
      "Criollo (Ocumare 77)          1\n",
      "Criollo (Ocumare 67)          1\n",
      "Criollo (Wild)                1\n",
      "Criollo (Ocumare)             1\n",
      "CCN51                         1\n",
      "Blend-Forastero,Criollo       1\n",
      "Amazon                        1\n",
      "Forastero(Arriba, CCN)        1\n",
      "Trinitario (Scavina)          1\n",
      "Forastero, Trinitario         1\n",
      "Forastero (Arriba) ASSS       1\n",
      "Forastero (Amelonado)         1\n",
      "Trinitario, Nacional          1\n",
      "Trinitario (Amelonado)        1\n",
      "Trinitario, TCGA              1\n",
      "Name: count, dtype: Int64\n",
      "Broad Bean Origin\n",
      "Venezuela                 214\n",
      "Ecuador                   193\n",
      "Peru                      165\n",
      "Madagascar                145\n",
      "Dominican Republic        141\n",
      "                         ... \n",
      "Suriname                    1\n",
      "Peru, Ecuador               1\n",
      "Ecuador, Mad., PNG          1\n",
      "Ghana, Panama, Ecuador      1\n",
      "Venezuela, Carribean        1\n",
      "Name: count, Length: 100, dtype: Int64\n"
     ]
    }
   ],
   "source": [
    "# Check result \n",
    "print(data['Bean type'].value_counts())\n",
    "print(data['Broad Bean Origin'].value_counts())"
   ]
  },
  {
   "cell_type": "markdown",
   "id": "d51baf1d-e0e0-4e1f-a6a7-22e2bf562bc2",
   "metadata": {},
   "source": [
    "# Check Duplicates"
   ]
  },
  {
   "cell_type": "code",
   "execution_count": 16,
   "id": "1a0a6f2f-f633-4fed-b88d-bf59adf02513",
   "metadata": {},
   "outputs": [],
   "source": [
    "data_dups = data[data.duplicated()]"
   ]
  },
  {
   "cell_type": "code",
   "execution_count": 17,
   "id": "84afe31e-8a2f-4d04-b495-14a00b04b69d",
   "metadata": {},
   "outputs": [
    {
     "data": {
      "text/html": [
       "<div>\n",
       "<style scoped>\n",
       "    .dataframe tbody tr th:only-of-type {\n",
       "        vertical-align: middle;\n",
       "    }\n",
       "\n",
       "    .dataframe tbody tr th {\n",
       "        vertical-align: top;\n",
       "    }\n",
       "\n",
       "    .dataframe thead th {\n",
       "        text-align: right;\n",
       "    }\n",
       "</style>\n",
       "<table border=\"1\" class=\"dataframe\">\n",
       "  <thead>\n",
       "    <tr style=\"text-align: right;\">\n",
       "      <th></th>\n",
       "      <th>Company</th>\n",
       "      <th>Specific Bean Origin</th>\n",
       "      <th>REF</th>\n",
       "      <th>Review</th>\n",
       "      <th>Cacao percent</th>\n",
       "      <th>Location</th>\n",
       "      <th>Rating</th>\n",
       "      <th>Bean type</th>\n",
       "      <th>Broad Bean Origin</th>\n",
       "    </tr>\n",
       "  </thead>\n",
       "  <tbody>\n",
       "  </tbody>\n",
       "</table>\n",
       "</div>"
      ],
      "text/plain": [
       "Empty DataFrame\n",
       "Columns: [Company, Specific Bean Origin, REF, Review, Cacao percent, Location, Rating, Bean type, Broad Bean Origin]\n",
       "Index: []"
      ]
     },
     "execution_count": 17,
     "metadata": {},
     "output_type": "execute_result"
    }
   ],
   "source": [
    "data_dups"
   ]
  },
  {
   "cell_type": "markdown",
   "id": "1a0e73f5-65c8-4471-bf80-b2b560e265f9",
   "metadata": {},
   "source": [
    "No duplicates values were found"
   ]
  },
  {
   "cell_type": "markdown",
   "id": "6e836079-5598-4082-b27b-e0889716f37e",
   "metadata": {},
   "source": [
    "# Basic Descriptive Statistics"
   ]
  },
  {
   "cell_type": "code",
   "execution_count": 18,
   "id": "3091b435-e083-4a09-ab2b-e0552afcd5b1",
   "metadata": {},
   "outputs": [
    {
     "data": {
      "text/html": [
       "<div>\n",
       "<style scoped>\n",
       "    .dataframe tbody tr th:only-of-type {\n",
       "        vertical-align: middle;\n",
       "    }\n",
       "\n",
       "    .dataframe tbody tr th {\n",
       "        vertical-align: top;\n",
       "    }\n",
       "\n",
       "    .dataframe thead th {\n",
       "        text-align: right;\n",
       "    }\n",
       "</style>\n",
       "<table border=\"1\" class=\"dataframe\">\n",
       "  <thead>\n",
       "    <tr style=\"text-align: right;\">\n",
       "      <th></th>\n",
       "      <th>REF</th>\n",
       "      <th>Review</th>\n",
       "      <th>Cacao percent</th>\n",
       "      <th>Rating</th>\n",
       "    </tr>\n",
       "  </thead>\n",
       "  <tbody>\n",
       "    <tr>\n",
       "      <th>count</th>\n",
       "      <td>1795.000000</td>\n",
       "      <td>1795.000000</td>\n",
       "      <td>1795.0</td>\n",
       "      <td>1795.000000</td>\n",
       "    </tr>\n",
       "    <tr>\n",
       "      <th>mean</th>\n",
       "      <td>1035.904735</td>\n",
       "      <td>2012.325348</td>\n",
       "      <td>71.697493</td>\n",
       "      <td>3.185933</td>\n",
       "    </tr>\n",
       "    <tr>\n",
       "      <th>std</th>\n",
       "      <td>552.886365</td>\n",
       "      <td>2.927210</td>\n",
       "      <td>6.323706</td>\n",
       "      <td>0.478062</td>\n",
       "    </tr>\n",
       "    <tr>\n",
       "      <th>min</th>\n",
       "      <td>5.000000</td>\n",
       "      <td>2006.000000</td>\n",
       "      <td>42.0</td>\n",
       "      <td>1.000000</td>\n",
       "    </tr>\n",
       "    <tr>\n",
       "      <th>25%</th>\n",
       "      <td>576.000000</td>\n",
       "      <td>2010.000000</td>\n",
       "      <td>70.0</td>\n",
       "      <td>2.875000</td>\n",
       "    </tr>\n",
       "    <tr>\n",
       "      <th>50%</th>\n",
       "      <td>1069.000000</td>\n",
       "      <td>2013.000000</td>\n",
       "      <td>70.0</td>\n",
       "      <td>3.250000</td>\n",
       "    </tr>\n",
       "    <tr>\n",
       "      <th>75%</th>\n",
       "      <td>1502.000000</td>\n",
       "      <td>2015.000000</td>\n",
       "      <td>75.0</td>\n",
       "      <td>3.500000</td>\n",
       "    </tr>\n",
       "    <tr>\n",
       "      <th>max</th>\n",
       "      <td>1952.000000</td>\n",
       "      <td>2017.000000</td>\n",
       "      <td>100.0</td>\n",
       "      <td>5.000000</td>\n",
       "    </tr>\n",
       "  </tbody>\n",
       "</table>\n",
       "</div>"
      ],
      "text/plain": [
       "               REF       Review  Cacao percent       Rating\n",
       "count  1795.000000  1795.000000         1795.0  1795.000000\n",
       "mean   1035.904735  2012.325348      71.697493     3.185933\n",
       "std     552.886365     2.927210       6.323706     0.478062\n",
       "min       5.000000  2006.000000           42.0     1.000000\n",
       "25%     576.000000  2010.000000           70.0     2.875000\n",
       "50%    1069.000000  2013.000000           70.0     3.250000\n",
       "75%    1502.000000  2015.000000           75.0     3.500000\n",
       "max    1952.000000  2017.000000          100.0     5.000000"
      ]
     },
     "execution_count": 18,
     "metadata": {},
     "output_type": "execute_result"
    }
   ],
   "source": [
    "# Basic statistics for numeric columns\n",
    "numeric_cols = ['REF','Review','Cacao percent','Rating']\n",
    "data[numeric_cols].describe()"
   ]
  },
  {
   "cell_type": "markdown",
   "id": "b819f7f4-6dd3-4386-88c9-34382a1b899d",
   "metadata": {},
   "source": [
    "# Descriptive stats for categorical variables"
   ]
  },
  {
   "cell_type": "code",
   "execution_count": 19,
   "id": "c1000287-6d02-4ad7-94f0-c11153e5df50",
   "metadata": {},
   "outputs": [
    {
     "name": "stdout",
     "output_type": "stream",
     "text": [
      "Company:\n",
      "Unique values: 416\n",
      "Top 5 most frequent values:\n",
      " Company\n",
      "Soma        47\n",
      "Bonnat      27\n",
      "Fresco      26\n",
      "Pralus      25\n",
      "A. Morin    23\n",
      "Name: count, dtype: int64\n",
      "\n",
      "Specific Bean Origin:\n",
      "Unique values: 1039\n",
      "Top 5 most frequent values:\n",
      " Specific Bean Origin\n",
      "Madagascar            57\n",
      "Peru                  45\n",
      "Ecuador               42\n",
      "Dominican Republic    37\n",
      "Venezuela             21\n",
      "Name: count, dtype: int64\n",
      "\n",
      "Location:\n",
      "Unique values: 60\n",
      "Top 5 most frequent values:\n",
      " Location\n",
      "U.S.A.    764\n",
      "France    156\n",
      "Canada    125\n",
      "U.K.       96\n",
      "Italy      63\n",
      "Name: count, dtype: int64\n",
      "\n",
      "Bean type:\n",
      "Unique values: 41\n",
      "Top 5 most frequent values:\n",
      " Bean type\n",
      "Unknown                 887\n",
      "Trinitario              419\n",
      "Criollo                 153\n",
      "Forastero                87\n",
      "Forastero (Nacional)     52\n",
      "Name: count, dtype: Int64\n",
      "\n",
      "Broad Bean Origin:\n",
      "Unique values: 100\n",
      "Top 5 most frequent values:\n",
      " Broad Bean Origin\n",
      "Venezuela             214\n",
      "Ecuador               193\n",
      "Peru                  165\n",
      "Madagascar            145\n",
      "Dominican Republic    141\n",
      "Name: count, dtype: Int64\n",
      "\n"
     ]
    }
   ],
   "source": [
    "categorical_cols = ['Company', 'Specific Bean Origin', 'Location', 'Bean type', 'Broad Bean Origin']\n",
    "\n",
    "for col in categorical_cols:\n",
    "    print(f\"{col}:\")\n",
    "    print(\"Unique values:\", data[col].nunique())\n",
    "    print(\"Top 5 most frequent values:\\n\", data[col].value_counts().head())\n",
    "    print()"
   ]
  },
  {
   "cell_type": "code",
   "execution_count": 20,
   "id": "a35208be-b475-4092-a623-4f9ca02f5099",
   "metadata": {},
   "outputs": [],
   "source": [
    "# Export data in csv\n",
    "data.to_csv(os.path.join(path,'02 Data','Prepared Data','clean_data.csv'))"
   ]
  }
 ],
 "metadata": {
  "kernelspec": {
   "display_name": "Python [conda env:base] *",
   "language": "python",
   "name": "conda-base-py"
  },
  "language_info": {
   "codemirror_mode": {
    "name": "ipython",
    "version": 3
   },
   "file_extension": ".py",
   "mimetype": "text/x-python",
   "name": "python",
   "nbconvert_exporter": "python",
   "pygments_lexer": "ipython3",
   "version": "3.13.5"
  }
 },
 "nbformat": 4,
 "nbformat_minor": 5
}
